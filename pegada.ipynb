{
 "cells": [
  {
   "attachments": {},
   "cell_type": "markdown",
   "metadata": {},
   "source": [
    "## Web scraping das lojas que vendem produtos pegada\n",
    "\n",
    "\"Imagine que você precise de endereço e telefone de todas lojas que vendam produtos de uma determinada marca. Você entra no site da empresa, e encontra uma sessão que mostra as lojas que vendem os produtos dessa marca. Porém são muitas lojas em várias cidades e estados diferentes, e pesquisar manualmente levaria muito tempo.\"\n",
    "\n",
    "Utilizamos então da técnica de webscraping para conseguir todos esses dados.\n",
    "\n",
    "A página web que encontram os dados esta em [Pegada](https://www.pegada.com.br/onde-encontrar).\n",
    "\n",
    "#### Imports das bibliotecas utilizadas e inicialização da lista"
   ]
  },
  {
   "cell_type": "code",
   "execution_count": 1,
   "metadata": {},
   "outputs": [],
   "source": [
    "import json\n",
    "import requests\n",
    "\n",
    "lojas = []"
   ]
  },
  {
   "attachments": {},
   "cell_type": "markdown",
   "metadata": {},
   "source": [
    "#### Scraping das lojas exclusivas\n",
    "\n",
    "Existem duas sessões, uma de lojas exclusivas e outra de lojas multimarcas, no código abaixo pegamos apenas as lojas exclusivas."
   ]
  },
  {
   "cell_type": "code",
   "execution_count": 2,
   "metadata": {},
   "outputs": [],
   "source": [
    "lojas_exclusivas = requests.get('https://admin.pegada.com.br/pegada-admin/items/stores?limit=-1&filter[lang_id][eq]=3&filter[type_id][eq]=1&filter[status][eq]=published&fields=*.*,city_id.*,city_id.state_id.*,city_id.state_id.country_id.*')\n",
    "lojas_exclusivas = json.loads(lojas_exclusivas.text)\n",
    "\n",
    "for loja in lojas_exclusivas.get('data'):\n",
    "    lojas.append({'nome':loja.get('name'), 'descricao':loja.get('desc'), 'cidade':loja.get('city_id').get('nome_pt'), 'estado':loja.get('city_id').get('state_id').get('nome_pt'), 'exclusiva':'Sim' if loja.get('type_id').get('name').lower() == 'exclusivas' else 'Não'})"
   ]
  },
  {
   "attachments": {},
   "cell_type": "markdown",
   "metadata": {},
   "source": [
    "#### Scraping das lojas multimarcas\n",
    "\n",
    "No código abaixo pegamos as lojas multimarcas."
   ]
  },
  {
   "cell_type": "code",
   "execution_count": 3,
   "metadata": {},
   "outputs": [],
   "source": [
    "lojas_multimarcas = requests.get('https://admin.pegada.com.br/pegada-admin/items/stores?limit=-1&filter[lang_id][eq]=3&filter[type_id][eq]=2&filter[status][eq]=published&fields=*.*,city_id.*,city_id.state_id.*,city_id.state_id.country_id.*')\n",
    "lojas_multimarcas = json.loads(lojas_multimarcas.text)\n",
    "\n",
    "for loja in lojas_multimarcas.get('data'):\n",
    "    lojas.append({'nome':loja.get('name'), 'descricao':loja.get('desc'), 'cidade':loja.get('city_id').get('nome_pt'), 'estado':loja.get('city_id').get('state_id').get('nome_pt'), 'exclusiva':'Sim' if loja.get('type_id').get('name').lower() == 'exclusivas' else 'Não'})"
   ]
  },
  {
   "attachments": {},
   "cell_type": "markdown",
   "metadata": {},
   "source": [
    "#### Quantidade de lojas encontradas"
   ]
  },
  {
   "cell_type": "code",
   "execution_count": 4,
   "metadata": {},
   "outputs": [
    {
     "data": {
      "text/plain": [
       "11367"
      ]
     },
     "execution_count": 4,
     "metadata": {},
     "output_type": "execute_result"
    }
   ],
   "source": [
    "len(lojas)"
   ]
  }
 ],
 "metadata": {
  "kernelspec": {
   "display_name": "venv",
   "language": "python",
   "name": "python3"
  },
  "language_info": {
   "codemirror_mode": {
    "name": "ipython",
    "version": 3
   },
   "file_extension": ".py",
   "mimetype": "text/x-python",
   "name": "python",
   "nbconvert_exporter": "python",
   "pygments_lexer": "ipython3",
   "version": "3.10.5"
  },
  "orig_nbformat": 4
 },
 "nbformat": 4,
 "nbformat_minor": 2
}
