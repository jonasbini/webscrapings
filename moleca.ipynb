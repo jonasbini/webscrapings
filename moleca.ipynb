{
 "cells": [
  {
   "attachments": {},
   "cell_type": "markdown",
   "metadata": {},
   "source": [
    "## Web scraping das lojas que vendem produtos moleca\n",
    "\n",
    "\"Imagine que você precise de endereço e telefone de todas lojas que vendam produtos de uma determinada marca. Você entra no site da empresa, e encontra uma sessão que mostra as lojas que vendem os produtos dessa marca. Porém são muitas lojas em várias cidades e estados diferentes, e pesquisar manualmente levaria muito tempo.\"\n",
    "\n",
    "Utilizamos então da técnica de webscraping para conseguir todos esses dados.\n",
    "\n",
    "A página web que encontram os dados esta em [Moleca](https://www.moleca.com.br/onde-encontrar/pt).\n",
    "\n",
    "#### Imports das bibliotecas utilizadas, inicialização da lista e funções utilizadas"
   ]
  },
  {
   "cell_type": "code",
   "execution_count": 1,
   "metadata": {},
   "outputs": [],
   "source": [
    "from bs4 import BeautifulSoup\n",
    "\n",
    "import requests\n",
    "import json\n",
    "\n",
    "\n",
    "def get_provinces() -> list:\n",
    "    '''\n",
    "    Busca a lista de estados na página.\n",
    "    '''\n",
    "    response = requests.get('https://www.moleca.com.br/onde-encontrar/pt').text\n",
    "    provinces_option = BeautifulSoup(response, 'html.parser').select('#estado > option')\n",
    "    provinces_list = []\n",
    "    for provinces in provinces_option:\n",
    "        if provinces.get('value'):\n",
    "            provinces_list.append(provinces.get('value'))\n",
    "    return provinces_list\n",
    "\n",
    "def get_cities(province: str) -> dict:\n",
    "    '''\n",
    "    Busca a lista de cidades de acordo com o estado informado.\n",
    "    '''\n",
    "    response = requests.post('https://www.moleca.com.br/acoes/lista-cidades', data={'secao':'onde', 'lang':'pt', 'pais':'BRASIL', 'estado':province, 'cidade':''})\n",
    "    return json.loads(response.content.decode())\n",
    "\n",
    "def parse_store(store) -> dict:\n",
    "    '''\n",
    "    Pega os dados da loja informada.\n",
    "    '''\n",
    "    store_name = store.select('.colLoja')[0].text\n",
    "    store_address = store.select('.colEndereco')[0].text\n",
    "    store_phone = store.select('.colTelefone')[0].p.text\n",
    "    try: \n",
    "        store_aditional_phones = store.select('.morePhones')[0].text.replace('\\t', '').replace('\\n', '')\n",
    "    except:\n",
    "        store_aditional_phones = None\n",
    "    return {'name':store_name, 'address':store_address, 'phone':store_phone, 'aditional_phones':store_aditional_phones}\n",
    "\n",
    "def get_stores(province: str, city: str) -> list:\n",
    "    '''\n",
    "    Busca as lojas de acordo com a cidade e estado informados.\n",
    "    '''\n",
    "    response = requests.post('https://www.moleca.com.br/acoes/lista-lojas', data={'secao':'onde', 'lang':'pt', 'pais':'BRASIL', 'estado':province, 'cidade':city.get('label')})\n",
    "    response = response.content.decode()\n",
    "    stores_divs = BeautifulSoup(response, 'html.parser').select('.loja')\n",
    "    stores_list = []\n",
    "    for store in stores_divs:\n",
    "        parsed_store = parse_store(store)\n",
    "        parsed_store['city'] = city.get('label')\n",
    "        parsed_store['province'] = province\n",
    "        stores_list.append(parsed_store)\n",
    "    return stores_list\n",
    "\n",
    "stores_list = []"
   ]
  },
  {
   "attachments": {},
   "cell_type": "markdown",
   "metadata": {},
   "source": [
    "### Busca a lista de estados"
   ]
  },
  {
   "cell_type": "code",
   "execution_count": 2,
   "metadata": {},
   "outputs": [],
   "source": [
    "provinces = get_provinces()"
   ]
  },
  {
   "attachments": {},
   "cell_type": "markdown",
   "metadata": {},
   "source": [
    "### Busca de cidades e lojas\n",
    "\n",
    "Para cada estado, busca a lista de cidades que possuem lojas que vendem produtos moleca, e para cada cidade, busca a lista de lojas."
   ]
  },
  {
   "cell_type": "code",
   "execution_count": 3,
   "metadata": {},
   "outputs": [],
   "source": [
    "for province in provinces:\n",
    "    cities = get_cities(province)\n",
    "    for city in cities:\n",
    "        stores = get_stores(province, city)\n",
    "        stores_list = stores_list + stores"
   ]
  },
  {
   "attachments": {},
   "cell_type": "markdown",
   "metadata": {},
   "source": [
    "#### Quantidade de lojas encontradas"
   ]
  },
  {
   "cell_type": "code",
   "execution_count": 4,
   "metadata": {},
   "outputs": [
    {
     "data": {
      "text/plain": [
       "18014"
      ]
     },
     "execution_count": 4,
     "metadata": {},
     "output_type": "execute_result"
    }
   ],
   "source": [
    "len(stores_list)"
   ]
  }
 ],
 "metadata": {
  "kernelspec": {
   "display_name": "venv",
   "language": "python",
   "name": "python3"
  },
  "language_info": {
   "codemirror_mode": {
    "name": "ipython",
    "version": 3
   },
   "file_extension": ".py",
   "mimetype": "text/x-python",
   "name": "python",
   "nbconvert_exporter": "python",
   "pygments_lexer": "ipython3",
   "version": "3.10.5"
  },
  "orig_nbformat": 4
 },
 "nbformat": 4,
 "nbformat_minor": 2
}
